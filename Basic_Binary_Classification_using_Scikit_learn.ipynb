{
  "nbformat": 4,
  "nbformat_minor": 0,
  "metadata": {
    "colab": {
      "provenance": [],
      "toc_visible": true,
      "authorship_tag": "ABX9TyNp2XWnBl82SzoAUllmodJ/",
      "include_colab_link": true
    },
    "kernelspec": {
      "name": "python3",
      "display_name": "Python 3"
    },
    "language_info": {
      "name": "python"
    }
  },
  "cells": [
    {
      "cell_type": "markdown",
      "metadata": {
        "id": "view-in-github",
        "colab_type": "text"
      },
      "source": [
        "<a href=\"https://colab.research.google.com/github/kim-jeonghyun/basic_ml/blob/main/Basic_Binary_Classification_using_Scikit_learn.ipynb\" target=\"_parent\"><img src=\"https://colab.research.google.com/assets/colab-badge.svg\" alt=\"Open In Colab\"/></a>"
      ]
    },
    {
      "cell_type": "markdown",
      "source": [
        "# Scikit-learn을 이용한 이진분류(Binary Classification) 입문: 기초부터 결과 해석까지"
      ],
      "metadata": {
        "id": "exgiUKpwjkN4"
      }
    },
    {
      "cell_type": "markdown",
      "source": [
        "작성자 [김정현](kimjeonghyun.jkim@gmail.com)"
      ],
      "metadata": {
        "id": "ubAuOQx6jv4E"
      }
    },
    {
      "cell_type": "markdown",
      "source": [
        "### 1. 서론\n",
        "\n",
        "- 머신 러닝은 데이터로부터 패턴을 학습하여 예측 또는 결정을 자동화하는 기술\n",
        "- 머신러닝은 이미지 인식, 자연어 처리, 추천 시스템 등 광범위한 과제들을 해결하지만,\n",
        "- 이진 분류(Binary Classification)는 가장 기본적이면서도 광범위하게 사용되는 과제 형식\n",
        "- 이 포스트에 이진 분류 모델의 기본 개념을 정리하고, python scikit-learn 라이브러리를 활용해 실제 데이터로 이진 분류 모델을 만들어보며, 만들어진 이진 분류 모델의 성능을 평가하고, 결과를 해석하는 방법을 간단하게 정리할 예정"
      ],
      "metadata": {
        "id": "bKFfmas1jt3X"
      }
    },
    {
      "cell_type": "markdown",
      "source": [
        "### 2. Binary Classification의 기초"
      ],
      "metadata": {
        "id": "Ap7RnrLfj6mi"
      }
    },
    {
      "cell_type": "markdown",
      "source": [
        "  - 이진 분류는 데이터를 두 가지 클래스 중 하나로 분류하는 과제\n",
        "  - 가장 기초적이고 기본적이지만, 일상생활과 산업 전반에 걸쳐 다양한 문제를 예측하는데 사용될 수 있음\n",
        "      - 이진분류 과제의 예\n",
        "          1. 이메일이 스팸인지 아닌지를 판별하거나,\n",
        "          2. 의료 검사 결과를 바탕으로 질병의 유무를 결정하기\n",
        "          3. 신용카드 사기 거래 탐지\n",
        "          4. 고객 구매 가능성 예측\n",
        "          5. 이미지속 물체가 개인지 고양이인지 분류\n",
        "  - 이진 분류 태스크의 핵심 개념 3가지\n",
        "      1. 레이블(label)\n",
        "          \n",
        "          각 데이터 인스턴스가 속하는 클래스. y에 해당하는 값 이진 분류는 두가지 중에 하나의 클래스에 속하게 되므로, 보통 0과 1, 또는 'True'와 'False'로 표현\n",
        "          \n",
        "      2. 특성(feature)\n",
        "          \n",
        "          각 데이터 인스턴스의 속성이나 변수, X에 해당하는 정보들. 이것들을 기반으로 레이블(y)를 예측하게 됨\n",
        "          \n",
        "      3. 분류기(classifier)\n",
        "          \n",
        "          입력된 특성(X)를 기반으로 레이블(y)를 예측하는 머신러닝 모델"
      ],
      "metadata": {
        "id": "eJB43fkuu-Xr"
      }
    },
    {
      "cell_type": "markdown",
      "source": [
        "### 3. Scikit-learn 소개\n",
        "\n",
        "- ython으로 작성된 오픈 소스 머신 러닝 라이브러리\n",
        "- 분류, 회귀, 군집화 등을 위한 다양한 알고리즘 작업을 수행할 수 있음\n",
        "- 장점 : 간결하고 일관된 API, 포괄적인 문서화, 풍부한 알고리즘 지원\n",
        "- 데이터 전처리, 모델 선택, 하이퍼 파라미터 튜닝, 평가 까지 머신 러닝 작업의 여러 과정을 몇줄의 코드로 편리하게 수행할 수 있음\n",
        "- pip를 통해 편리하게 설치할 수 있으며, colab, kaggle 노트북에는 커널에 미리 설치되어 있어 바로 import 를 사용해 사용이 가능함"
      ],
      "metadata": {
        "id": "a1hi-xxf33hT"
      }
    },
    {
      "cell_type": "code",
      "execution_count": null,
      "metadata": {
        "colab": {
          "base_uri": "https://localhost:8080/"
        },
        "id": "SOVWwOSyji7_",
        "outputId": "7dfd9dca-88bd-47f0-a968-48e73a775995"
      },
      "outputs": [
        {
          "output_type": "stream",
          "name": "stdout",
          "text": [
            "Requirement already satisfied: scikit-learn in /usr/local/lib/python3.10/dist-packages (1.2.2)\n",
            "Requirement already satisfied: numpy>=1.17.3 in /usr/local/lib/python3.10/dist-packages (from scikit-learn) (1.25.2)\n",
            "Requirement already satisfied: scipy>=1.3.2 in /usr/local/lib/python3.10/dist-packages (from scikit-learn) (1.11.4)\n",
            "Requirement already satisfied: joblib>=1.1.1 in /usr/local/lib/python3.10/dist-packages (from scikit-learn) (1.3.2)\n",
            "Requirement already satisfied: threadpoolctl>=2.0.0 in /usr/local/lib/python3.10/dist-packages (from scikit-learn) (3.3.0)\n"
          ]
        }
      ],
      "source": [
        "pip install scikit-learn"
      ]
    },
    {
      "cell_type": "markdown",
      "source": [
        "### 4. 데이터 준비\n",
        "\n",
        "  - 머신러닝을 훈련시킬 데이터를 로드하는 것 뿐 아니라 데이터를 분석하기에 좋은 형태로 만드는 것 까지 모두 포함 → 이 과정이 모델의 성능에 큰 영향을 미칠 수 있음\n",
        "  - 사용할 데이터셋 소개.\n",
        "      - Scikit-learn 라이브러리 내에 내장된 유방암 진단 데이터셋 사용\n",
        "      - 종양의 측정값을 기반으로 종양이 양성인지 악성인지 분류하는 이진 분류 문제\n"
      ],
      "metadata": {
        "id": "7mqvEp7xQHse"
      }
    },
    {
      "cell_type": "markdown",
      "source": [
        "4-1. 데이터 로드"
      ],
      "metadata": {
        "id": "-XLMX2pyj0Oy"
      }
    },
    {
      "cell_type": "code",
      "source": [
        "from sklearn.datasets import load_breast_cancer\n",
        "\n",
        "# 데이터 로드 및 DataFrame 변환\n",
        "data = load_breast_cancer()"
      ],
      "metadata": {
        "id": "3i2FsPFXj248"
      },
      "execution_count": null,
      "outputs": []
    },
    {
      "cell_type": "markdown",
      "source": [
        "4-2. 데이터 전처리"
      ],
      "metadata": {
        "id": "cWXP0OfRjv9w"
      }
    },
    {
      "cell_type": "markdown",
      "source": [
        "- 결측치 확인 및 처리\n",
        "    - Scikit-learn의 breast_cancer 데이터는 결측치가 없음\n",
        "    - 결측치가 있는 데이터셋이라면, 결측치를 제거하거나, 평균값으로 대체하거나 중앙값으로 대체하는 등의 방법을 통해 결측치를 없애고 다음 스텝을 진행"
      ],
      "metadata": {
        "id": "j2vOxQy2kTP-"
      }
    },
    {
      "cell_type": "code",
      "source": [
        "import pandas as pd\n",
        "\n",
        "df = pd.DataFrame(data.data, columns=data.feature_names)\n",
        "df['target'] = data.target\n",
        "\n",
        "# 결측치 확인\n",
        "missing_values = df.isnull().sum()\n",
        "print(\"결측치 수:\\n\", missing_values)"
      ],
      "metadata": {
        "colab": {
          "base_uri": "https://localhost:8080/"
        },
        "id": "S95Q0qwGv0Jl",
        "outputId": "2744ffcc-cfff-4303-e1c5-2c9611857f67"
      },
      "execution_count": null,
      "outputs": [
        {
          "output_type": "stream",
          "name": "stdout",
          "text": [
            "결측치 수:\n",
            " mean radius                0\n",
            "mean texture               0\n",
            "mean perimeter             0\n",
            "mean area                  0\n",
            "mean smoothness            0\n",
            "mean compactness           0\n",
            "mean concavity             0\n",
            "mean concave points        0\n",
            "mean symmetry              0\n",
            "mean fractal dimension     0\n",
            "radius error               0\n",
            "texture error              0\n",
            "perimeter error            0\n",
            "area error                 0\n",
            "smoothness error           0\n",
            "compactness error          0\n",
            "concavity error            0\n",
            "concave points error       0\n",
            "symmetry error             0\n",
            "fractal dimension error    0\n",
            "worst radius               0\n",
            "worst texture              0\n",
            "worst perimeter            0\n",
            "worst area                 0\n",
            "worst smoothness           0\n",
            "worst compactness          0\n",
            "worst concavity            0\n",
            "worst concave points       0\n",
            "worst symmetry             0\n",
            "worst fractal dimension    0\n",
            "target                     0\n",
            "dtype: int64\n"
          ]
        }
      ]
    },
    {
      "cell_type": "markdown",
      "source": [
        "Scikit-learn의 breast_cancer 데이터는 결측치가 없지만, 만약 결측치가 있는 데이터셋이라면, 결측치를 제거하거나, 평균값으로 대체하거나 중앙값으로 대체하는 등의 방법을 통해 결측치를 없애고 다음 스텝을 진행해야 합니다.\n"
      ],
      "metadata": {
        "id": "kCrHjedBfhy6"
      }
    },
    {
      "cell_type": "code",
      "source": [
        "# 결측치가 있다면, 다음과 같은 방법으로 처리할 수 있지만, 현재는 결측치 없으므로 그냥 통과\n",
        "# df.fillna(df.mean(), inplace=True) # 평균값 대체\n",
        "# df.fillna(df.median(), inplace=True) # 중간값 대체\n",
        "# df.dropna(inplace=True) # 결측치 제거\n",
        "\n",
        "# Scikit-learn 분석을 위해 DataFrame을 다시 분리\n",
        "X = df.drop('target', axis=1).values\n",
        "y = df['target'].values\n"
      ],
      "metadata": {
        "id": "cqpKeHHpfdxT"
      },
      "execution_count": null,
      "outputs": []
    },
    {
      "cell_type": "code",
      "source": [
        "X.shape, y.shape"
      ],
      "metadata": {
        "colab": {
          "base_uri": "https://localhost:8080/"
        },
        "id": "LO12kkSIPmNz",
        "outputId": "ed70d13b-b822-4147-a5b3-ca0818524ff3"
      },
      "execution_count": null,
      "outputs": [
        {
          "output_type": "execute_result",
          "data": {
            "text/plain": [
              "((569, 30), (569,))"
            ]
          },
          "metadata": {},
          "execution_count": 21
        }
      ]
    },
    {
      "cell_type": "code",
      "source": [
        "X[0]"
      ],
      "metadata": {
        "colab": {
          "base_uri": "https://localhost:8080/"
        },
        "id": "2WpXOCqaP2_P",
        "outputId": "c0d2d634-716e-444f-9782-29eacff5a7dd"
      },
      "execution_count": null,
      "outputs": [
        {
          "output_type": "execute_result",
          "data": {
            "text/plain": [
              "array([1.799e+01, 1.038e+01, 1.228e+02, 1.001e+03, 1.184e-01, 2.776e-01,\n",
              "       3.001e-01, 1.471e-01, 2.419e-01, 7.871e-02, 1.095e+00, 9.053e-01,\n",
              "       8.589e+00, 1.534e+02, 6.399e-03, 4.904e-02, 5.373e-02, 1.587e-02,\n",
              "       3.003e-02, 6.193e-03, 2.538e+01, 1.733e+01, 1.846e+02, 2.019e+03,\n",
              "       1.622e-01, 6.656e-01, 7.119e-01, 2.654e-01, 4.601e-01, 1.189e-01])"
            ]
          },
          "metadata": {},
          "execution_count": 22
        }
      ]
    },
    {
      "cell_type": "code",
      "source": [
        "y[0]"
      ],
      "metadata": {
        "colab": {
          "base_uri": "https://localhost:8080/"
        },
        "id": "r27GQfPXnu7Y",
        "outputId": "2fb0d09b-f5a1-4593-db2c-3b754f0506a1"
      },
      "execution_count": null,
      "outputs": [
        {
          "output_type": "execute_result",
          "data": {
            "text/plain": [
              "0"
            ]
          },
          "metadata": {},
          "execution_count": 26
        }
      ]
    },
    {
      "cell_type": "markdown",
      "source": [
        "총 569개의 row가 있으며, 각 row마다 30개의 측정값이 있고, 이 값들은 실수 타입임을 알 수 있음"
      ],
      "metadata": {
        "id": "DbI1RFKeQNzp"
      }
    },
    {
      "cell_type": "markdown",
      "source": [
        "- 훈련 세트와 테스트 세트 분리\n",
        "    - 모델을 평가를 위해 필요\n",
        "    - 트레인셋 데이터로 학습한 모델이 새로운 데이터에 대해 얼마나 잘 일반화되는지 평가하기 위해 사용\n",
        "\n",
        "\n",
        "- 스케일링\n",
        "    - 다양한 범위의 값을 가진 특성들을 통일된 스케일로 조정해 주는 과정\n",
        "    - 모델의 수렴 속도를 높이고, 성능을 개선하는 데 도움이 됨\n",
        "    - **`StandardScaler`**를 사용하는 스케일링은 각 특성의 평균을 0, 표준편차를 1로 조정하여 모든 특성이 동일한 스케일을 갖도록 함\n",
        "    - **`MinMaxScaler`**를 사용하기도 함"
      ],
      "metadata": {
        "id": "jY9Ui9bmn9UL"
      }
    },
    {
      "cell_type": "code",
      "source": [
        "from sklearn.model_selection import train_test_split\n",
        "from sklearn.preprocessing import StandardScaler\n",
        "\n",
        "# 훈련 세트와 테스트 세트 분리\n",
        "X_train, X_test, y_train, y_test = train_test_split(X, y, test_size=0.2, random_state=42)\n",
        "\n",
        "# 데이터 스케일링\n",
        "scaler = StandardScaler()\n",
        "X_train_scaled = scaler.fit_transform(X_train)\n",
        "X_test_scaled = scaler.transform(X_test)"
      ],
      "metadata": {
        "id": "PYbDAY8oPnxc"
      },
      "execution_count": null,
      "outputs": []
    },
    {
      "cell_type": "code",
      "source": [
        "X_train_scaled[0]"
      ],
      "metadata": {
        "colab": {
          "base_uri": "https://localhost:8080/"
        },
        "id": "4ngLW_eIPxvv",
        "outputId": "0a296307-f6e8-49fd-d92d-ccc7ecd2f9b2"
      },
      "execution_count": null,
      "outputs": [
        {
          "output_type": "execute_result",
          "data": {
            "text/plain": [
              "array([-1.44075296, -0.43531947, -1.36208497, -1.1391179 ,  0.78057331,\n",
              "        0.71892128,  2.82313451, -0.11914956,  1.09266219,  2.45817261,\n",
              "       -0.26380039, -0.01605246, -0.47041357, -0.47476088,  0.83836493,\n",
              "        3.25102691,  8.43893667,  3.39198733,  2.62116574,  2.06120787,\n",
              "       -1.23286131, -0.47630949, -1.24792009, -0.97396758,  0.72289445,\n",
              "        1.18673232,  4.67282796,  0.9320124 ,  2.09724217,  1.88645014])"
            ]
          },
          "metadata": {},
          "execution_count": 29
        }
      ]
    },
    {
      "cell_type": "markdown",
      "source": [
        "변환되기 전의 데이터보다 0에 더 수렴된 분포를 보인다는 것을 확인할 수 있습니다."
      ],
      "metadata": {
        "id": "BV1w4t-IrKTa"
      }
    },
    {
      "cell_type": "markdown",
      "source": [
        "  - 카테고리 데이터 변환\n",
        "    - breast_cancer 데이터셋에는 해당하지 않지만, 카테고리 데이터 변환이 필요한 경우 있음\n",
        "      - 텍스트로 된 카테고리 데이터가 있을 경우, 모델이 처리할 수 있는 수치 데이터로 변환하는 과정이 필요함 -> 예를 들어 원-핫 인코딩(one-hot encoding)을 사용해 카테고리 값을 이진 벡터로 변환하여 사용\n",
        "      - 연속형 데이터를 카테고리 데이터로 변환하기도 함"
      ],
      "metadata": {
        "id": "UxYQDLsJrGUo"
      }
    },
    {
      "cell_type": "markdown",
      "source": [
        "### 5. 모델 훈련\n",
        "  - 예제에서는 이진 분류 문제를 해결할 수 있는 가장 간단하고 효과적인 로지스틱 회귀 모델을 사용\n",
        "  - 사용 모델의 주요 하이퍼 파라미터 간단한 설명\n",
        "      - 전체 하이퍼 파라미터 확인 : 공식문서(https://scikit-learn.org/stable/modules/generated/sklearn.linear_model.LogisticRegression.html)\n",
        "      - **`C`**: 규제(regularization) 강도의 역수. 값이 작을수록 규제를 더 많이 받아 과적합 방지 가능\n",
        "      - **`solver`**: 최적화 문제를 해결하기 위한 알고리즘을 지정, default는 ‘lbfgs’, 데이터의 크기나 특성에 따라 적절한 솔버를 선택해야 함\n",
        "      - **`penalty`**: 규제의 종류를 지정**`l1`**, **`l2`**, **`elasticnet`**, **`none`** 등 각각 다른 규제 방식을 나타냄. default는 ‘l2’.**`l1`** 규제는 모델의 일부 특성 가중치를 0으로 만들어 특성 선택의 효과를 낼 수 있으며, **`l2`** 규제는 가중치의 제곱합을 최소화하여 모든 특성이 비슷한 수준의 중요도를 가지도록 하는 것"
      ],
      "metadata": {
        "id": "HH6Fcnk2wiP8"
      }
    },
    {
      "cell_type": "code",
      "source": [
        "from sklearn.linear_model import LogisticRegression\n",
        "\n",
        "# 모델 초기화\n",
        "model = LogisticRegression()\n",
        "\n",
        "# 모델 훈련\n",
        "model.fit(X_train_scaled, y_train)"
      ],
      "metadata": {
        "colab": {
          "base_uri": "https://localhost:8080/",
          "height": 75
        },
        "id": "zDzOTHXznxMi",
        "outputId": "c7044af7-7583-44f5-e560-0fc87688c227"
      },
      "execution_count": null,
      "outputs": [
        {
          "output_type": "execute_result",
          "data": {
            "text/plain": [
              "LogisticRegression()"
            ],
            "text/html": [
              "<style>#sk-container-id-1 {color: black;background-color: white;}#sk-container-id-1 pre{padding: 0;}#sk-container-id-1 div.sk-toggleable {background-color: white;}#sk-container-id-1 label.sk-toggleable__label {cursor: pointer;display: block;width: 100%;margin-bottom: 0;padding: 0.3em;box-sizing: border-box;text-align: center;}#sk-container-id-1 label.sk-toggleable__label-arrow:before {content: \"▸\";float: left;margin-right: 0.25em;color: #696969;}#sk-container-id-1 label.sk-toggleable__label-arrow:hover:before {color: black;}#sk-container-id-1 div.sk-estimator:hover label.sk-toggleable__label-arrow:before {color: black;}#sk-container-id-1 div.sk-toggleable__content {max-height: 0;max-width: 0;overflow: hidden;text-align: left;background-color: #f0f8ff;}#sk-container-id-1 div.sk-toggleable__content pre {margin: 0.2em;color: black;border-radius: 0.25em;background-color: #f0f8ff;}#sk-container-id-1 input.sk-toggleable__control:checked~div.sk-toggleable__content {max-height: 200px;max-width: 100%;overflow: auto;}#sk-container-id-1 input.sk-toggleable__control:checked~label.sk-toggleable__label-arrow:before {content: \"▾\";}#sk-container-id-1 div.sk-estimator input.sk-toggleable__control:checked~label.sk-toggleable__label {background-color: #d4ebff;}#sk-container-id-1 div.sk-label input.sk-toggleable__control:checked~label.sk-toggleable__label {background-color: #d4ebff;}#sk-container-id-1 input.sk-hidden--visually {border: 0;clip: rect(1px 1px 1px 1px);clip: rect(1px, 1px, 1px, 1px);height: 1px;margin: -1px;overflow: hidden;padding: 0;position: absolute;width: 1px;}#sk-container-id-1 div.sk-estimator {font-family: monospace;background-color: #f0f8ff;border: 1px dotted black;border-radius: 0.25em;box-sizing: border-box;margin-bottom: 0.5em;}#sk-container-id-1 div.sk-estimator:hover {background-color: #d4ebff;}#sk-container-id-1 div.sk-parallel-item::after {content: \"\";width: 100%;border-bottom: 1px solid gray;flex-grow: 1;}#sk-container-id-1 div.sk-label:hover label.sk-toggleable__label {background-color: #d4ebff;}#sk-container-id-1 div.sk-serial::before {content: \"\";position: absolute;border-left: 1px solid gray;box-sizing: border-box;top: 0;bottom: 0;left: 50%;z-index: 0;}#sk-container-id-1 div.sk-serial {display: flex;flex-direction: column;align-items: center;background-color: white;padding-right: 0.2em;padding-left: 0.2em;position: relative;}#sk-container-id-1 div.sk-item {position: relative;z-index: 1;}#sk-container-id-1 div.sk-parallel {display: flex;align-items: stretch;justify-content: center;background-color: white;position: relative;}#sk-container-id-1 div.sk-item::before, #sk-container-id-1 div.sk-parallel-item::before {content: \"\";position: absolute;border-left: 1px solid gray;box-sizing: border-box;top: 0;bottom: 0;left: 50%;z-index: -1;}#sk-container-id-1 div.sk-parallel-item {display: flex;flex-direction: column;z-index: 1;position: relative;background-color: white;}#sk-container-id-1 div.sk-parallel-item:first-child::after {align-self: flex-end;width: 50%;}#sk-container-id-1 div.sk-parallel-item:last-child::after {align-self: flex-start;width: 50%;}#sk-container-id-1 div.sk-parallel-item:only-child::after {width: 0;}#sk-container-id-1 div.sk-dashed-wrapped {border: 1px dashed gray;margin: 0 0.4em 0.5em 0.4em;box-sizing: border-box;padding-bottom: 0.4em;background-color: white;}#sk-container-id-1 div.sk-label label {font-family: monospace;font-weight: bold;display: inline-block;line-height: 1.2em;}#sk-container-id-1 div.sk-label-container {text-align: center;}#sk-container-id-1 div.sk-container {/* jupyter's `normalize.less` sets `[hidden] { display: none; }` but bootstrap.min.css set `[hidden] { display: none !important; }` so we also need the `!important` here to be able to override the default hidden behavior on the sphinx rendered scikit-learn.org. See: https://github.com/scikit-learn/scikit-learn/issues/21755 */display: inline-block !important;position: relative;}#sk-container-id-1 div.sk-text-repr-fallback {display: none;}</style><div id=\"sk-container-id-1\" class=\"sk-top-container\"><div class=\"sk-text-repr-fallback\"><pre>LogisticRegression()</pre><b>In a Jupyter environment, please rerun this cell to show the HTML representation or trust the notebook. <br />On GitHub, the HTML representation is unable to render, please try loading this page with nbviewer.org.</b></div><div class=\"sk-container\" hidden><div class=\"sk-item\"><div class=\"sk-estimator sk-toggleable\"><input class=\"sk-toggleable__control sk-hidden--visually\" id=\"sk-estimator-id-1\" type=\"checkbox\" checked><label for=\"sk-estimator-id-1\" class=\"sk-toggleable__label sk-toggleable__label-arrow\">LogisticRegression</label><div class=\"sk-toggleable__content\"><pre>LogisticRegression()</pre></div></div></div></div></div>"
            ]
          },
          "metadata": {},
          "execution_count": 32
        }
      ]
    },
    {
      "cell_type": "markdown",
      "source": [
        "### 6. 성능 평가 및 Classification Report 생성\n",
        "\n",
        "- 모델 성능 평가의 중요성\n",
        "    - 내가 훈련시킨 데이터에 대해서만 잘 학습한 것이 아니라 해당 문제에 대해 잘 일반화 되어서 새로운 데이터를 입력받았을 때도 올바른 예측을 할 수 있는지 평가하기 위하여 필요\n",
        "- Scikit-learn의**`classification_report`** 함수를 사용하여 분류 과제를 평가하는 주요 지표(metric)인 Precision, Recall, F1-Score 등을 포함한 보고서 생성"
      ],
      "metadata": {
        "id": "Q6pSP19_DiEa"
      }
    },
    {
      "cell_type": "code",
      "source": [
        "from sklearn.metrics import classification_report\n",
        "\n",
        "# 모델 예측\n",
        "y_pred = model.predict(X_test_scaled)\n",
        "\n",
        "# 성능 평가 보고서 출력\n",
        "report = classification_report(y_test, y_pred)\n",
        "print(report)"
      ],
      "metadata": {
        "colab": {
          "base_uri": "https://localhost:8080/"
        },
        "id": "ahXlTaTwwwC3",
        "outputId": "fc5a2eda-fc3d-4c26-b447-072076180989"
      },
      "execution_count": null,
      "outputs": [
        {
          "output_type": "stream",
          "name": "stdout",
          "text": [
            "              precision    recall  f1-score   support\n",
            "\n",
            "           0       0.98      0.95      0.96        43\n",
            "           1       0.97      0.99      0.98        71\n",
            "\n",
            "    accuracy                           0.97       114\n",
            "   macro avg       0.97      0.97      0.97       114\n",
            "weighted avg       0.97      0.97      0.97       114\n",
            "\n"
          ]
        }
      ]
    },
    {
      "cell_type": "markdown",
      "source": [
        "### 7. 결과 해석\n",
        "- 각 클래스별로 각 지표의 값을 제공 → 모델이 특정 클래스를 얼마나 잘 분류하는지 세밀하게 분석 가능.\n",
        "- 각 지표들에 대한 간단 설명\n",
        "    - **정확도(Accuracy)**: 전체 예측 중 올바른 예측의 비율\n",
        "    - **정밀도(Precision)**: 긍정으로 예측된 경우 중 실제로 긍정인 비율        \n",
        "    - **재현율(Recall)**: 실제 긍정인 경우 중 모델이 긍정으로 예측한 비율        \n",
        "    - **F1 점수(F1-Score)**: 정밀도와 재현율의 조화 평균 두 지표의 균형을 나타냄\n",
        "        \n",
        "- 만약 특정클래스의 재현율이 낮다면, 실제 긍정인 케이스를 긍정으로 예측하지 못하고 놓치고 있다고 볼 수 있음\n",
        "- 특히 불균형한 데이터셋의 경우는 정확도만으로 모델의 성능을 완전히 평가하기 어려워 정밀도, 재현율, F1-score 지표들을 함께 고려하는 것이 모델을 평가하고 개선점을 찾는데 도움이 됨\n",
        "- 이와 같은 분석의 결과에 따라 데이터 처리, 모델 변경, 하이퍼 파리미터 수정을 시도하여 성능 개선을 모색할 수 있음"
      ],
      "metadata": {
        "id": "yx5YaVVyDo7o"
      }
    },
    {
      "cell_type": "markdown",
      "source": [
        "### 8. 결론\n",
        "\n",
        "- Scikit-learn을 사용하여 이진 분류 문제를 해결하는 가장 기본적인 접근 방법 시도\n",
        "- 데이터 로드, 준비, 모델 학습, 평가까지 모드 scikit-learn을 사용하여 간단하게 실행 가능했음\n",
        "- 로지스틱회귀 모델 : 2가지 클래스 중 하나를 예측하는 이진 분류 모델의 기본\n",
        "- 모델 평가 : 이진 분류 모델을 평가하는데 사용하는 여러가지 지표를 살펴보았음"
      ],
      "metadata": {
        "id": "Fk9afOFEEYF6"
      }
    },
    {
      "cell_type": "code",
      "source": [],
      "metadata": {
        "id": "juhPQYiZ-dQK"
      },
      "execution_count": null,
      "outputs": []
    }
  ]
}