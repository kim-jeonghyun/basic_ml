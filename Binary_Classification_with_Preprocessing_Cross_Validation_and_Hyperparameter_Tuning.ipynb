{
  "nbformat": 4,
  "nbformat_minor": 0,
  "metadata": {
    "colab": {
      "provenance": [],
      "authorship_tag": "ABX9TyN1Llw6TMsftXw//AiqJy4C",
      "include_colab_link": true
    },
    "kernelspec": {
      "name": "python3",
      "display_name": "Python 3"
    },
    "language_info": {
      "name": "python"
    }
  },
  "cells": [
    {
      "cell_type": "markdown",
      "metadata": {
        "id": "view-in-github",
        "colab_type": "text"
      },
      "source": [
        "<a href=\"https://colab.research.google.com/github/kim-jeonghyun/basic_ml/blob/main/Binary_Classification_with_Preprocessing_Cross_Validation_and_Hyperparameter_Tuning.ipynb\" target=\"_parent\"><img src=\"https://colab.research.google.com/assets/colab-badge.svg\" alt=\"Open In Colab\"/></a>"
      ]
    },
    {
      "cell_type": "markdown",
      "source": [
        "\n",
        "# 사기 거래 탐지를 위한 이진 분류: 데이터 전처리, 교차 검증 및 하이퍼 파라미터 튜닝 중심으로\n"
      ],
      "metadata": {
        "id": "f12fovqA2dHS"
      }
    },
    {
      "cell_type": "markdown",
      "source": [
        "작성자 [김정현](kimjeonghyun.jkim@gmail.com)"
      ],
      "metadata": {
        "id": "JMeuXfxk2TrY"
      }
    },
    {
      "cell_type": "markdown",
      "source": [
        "## 1. 서론\n",
        "\n",
        "- 지난 번 Basic Binary Classfication using Scikit-learn 노트북에서는 머신 러닝 과제 중에서 가장 단순하면서 범용적으로 쓰이는 이진 분류 (Binary Classification) 과제에 대하여 간단히 정리하고, Scikit-learn을 사용한 기초적인 이진 분류 모델 구축 방법을 배웠음\n",
        "- 이 노트북에서는 그 기초 위에서 더욱 구체적이고 심화된 기술들을 추가하여 모델 성능 최적화하는 방법을 배울 것임\n",
        " 1. 데이터 전처리 심화\n",
        " 2. 교차 검증의 실제 적용\n",
        " 3. 하이퍼 파라미터 튜닝 연습\n",
        "\n",
        " 이와 같은 실습을 위하여 보다 대규모이며, 이진 클래스의 분포가 불균형하고, 다양한 특성을 가지고 있는\n",
        " 데이터셋인 '신용카드 사기거래 데이터셋'을 활용할 예정. 또한 이 데이터셋에 접근하기 위하여 데이터 사이언스 분야에서 널리 사용하는 Kaggle 사이트에 접근하고, Kaggle API를 활용해 Kaggle이 데이터를 쉽게 다운로드 받아 분석하는 방법도 시도해 볼 것임"
      ],
      "metadata": {
        "id": "69x-gnw73V2l"
      }
    },
    {
      "cell_type": "code",
      "execution_count": null,
      "metadata": {
        "id": "-9Ivxjet2JIY"
      },
      "outputs": [],
      "source": []
    }
  ]
}